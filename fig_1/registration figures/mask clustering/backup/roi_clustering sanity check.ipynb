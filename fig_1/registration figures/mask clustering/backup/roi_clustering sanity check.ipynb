{
 "cells": [
  {
   "cell_type": "markdown",
   "id": "9051cad8-f17d-47ae-a94e-3ff037404efa",
   "metadata": {
    "tags": []
   },
   "source": [
    "# ROI Sanity Check\n",
    "Checks if stored matched cells match fresh calculated.\n",
    "This code could also be used to recalculate the clustering with different setttings"
   ]
  },
  {
   "cell_type": "code",
   "execution_count": 1,
   "id": "ee5fd23d-3d63-4633-b810-87dd15e09407",
   "metadata": {
    "tags": []
   },
   "outputs": [],
   "source": [
    "%load_ext autoreload\n",
    "%autoreload 2\n",
    "import numpy as np\n",
    "import vr2p\n",
    "import gcsfs, pickle\n",
    "from tqdm.notebook import tqdm\n",
    "import yaml\n",
    "from multiday_suite2p.transform import cluster_cell_masks"
   ]
  },
  {
   "cell_type": "markdown",
   "id": "26789d03-4c51-475f-bb4c-7fb7d674f5c5",
   "metadata": {},
   "source": [
    "# Main Parameters"
   ]
  },
  {
   "cell_type": "code",
   "execution_count": 4,
   "id": "f0f731a6-5a0f-43ca-8f03-51686bca0493",
   "metadata": {
    "tags": []
   },
   "outputs": [
    {
     "name": "stderr",
     "output_type": "stream",
     "text": [
      "100%|████████████████████████████████████████████████████████████████████████████████████████████████████████████████████████████████| 5/5 [01:45<00:00, 21.08s/it]\n"
     ]
    },
    {
     "name": "stdout",
     "output_type": "stream",
     "text": [
      "A4  Equality:  True\n"
     ]
    },
    {
     "name": "stderr",
     "output_type": "stream",
     "text": [
      "100%|████████████████████████████████████████████████████████████████████████████████████████████████████████████████████████████████| 5/5 [00:35<00:00,  7.02s/it]\n"
     ]
    },
    {
     "name": "stdout",
     "output_type": "stream",
     "text": [
      "A5  Equality:  True\n"
     ]
    },
    {
     "name": "stderr",
     "output_type": "stream",
     "text": [
      "100%|████████████████████████████████████████████████████████████████████████████████████████████████████████████████████████████████| 5/5 [02:07<00:00, 25.48s/it]\n"
     ]
    },
    {
     "name": "stdout",
     "output_type": "stream",
     "text": [
      "A7  Equality:  True\n"
     ]
    },
    {
     "name": "stderr",
     "output_type": "stream",
     "text": [
      "100%|████████████████████████████████████████████████████████████████████████████████████████████████████████████████████████████████| 4/4 [00:45<00:00, 11.45s/it]\n"
     ]
    },
    {
     "name": "stdout",
     "output_type": "stream",
     "text": [
      "B2  Equality:  True\n"
     ]
    },
    {
     "name": "stderr",
     "output_type": "stream",
     "text": [
      "100%|████████████████████████████████████████████████████████████████████████████████████████████████████████████████████████████████| 5/5 [03:50<00:00, 46.10s/it]\n"
     ]
    },
    {
     "name": "stdout",
     "output_type": "stream",
     "text": [
      "B3  Equality:  True\n"
     ]
    },
    {
     "name": "stderr",
     "output_type": "stream",
     "text": [
      "100%|████████████████████████████████████████████████████████████████████████████████████████████████████████████████████████████████| 5/5 [00:34<00:00,  6.96s/it]\n"
     ]
    },
    {
     "name": "stdout",
     "output_type": "stream",
     "text": [
      "B4  Equality:  True\n"
     ]
    },
    {
     "name": "stderr",
     "output_type": "stream",
     "text": [
      "100%|████████████████████████████████████████████████████████████████████████████████████████████████████████████████████████████████| 5/5 [00:27<00:00,  5.51s/it]\n"
     ]
    },
    {
     "name": "stdout",
     "output_type": "stream",
     "text": [
      "B5  Equality:  True\n"
     ]
    },
    {
     "name": "stderr",
     "output_type": "stream",
     "text": [
      "100%|████████████████████████████████████████████████████████████████████████████████████████████████████████████████████████████████| 5/5 [03:15<00:00, 39.18s/it]\n"
     ]
    },
    {
     "name": "stdout",
     "output_type": "stream",
     "text": [
      "C1  Equality:  True\n"
     ]
    },
    {
     "name": "stderr",
     "output_type": "stream",
     "text": [
      "100%|████████████████████████████████████████████████████████████████████████████████████████████████████████████████████████████████| 5/5 [02:34<00:00, 30.92s/it]\n"
     ]
    },
    {
     "name": "stdout",
     "output_type": "stream",
     "text": [
      "D1  Equality:  True\n"
     ]
    },
    {
     "name": "stderr",
     "output_type": "stream",
     "text": [
      "100%|████████████████████████████████████████████████████████████████████████████████████████████████████████████████████████████████| 4/4 [00:24<00:00,  6.21s/it]\n"
     ]
    },
    {
     "name": "stdout",
     "output_type": "stream",
     "text": [
      "F1  Equality:  True\n"
     ]
    }
   ],
   "source": [
    "animals = ['A4','A5','A7','B2','B3','B4','B5','C1','D1','F1']\n",
    "\n",
    "# cluster Settings\n",
    "cluster_settings = \"\"\"\n",
    "criterion: \"distance\" # criterion used for clustering\n",
    "threshold: 0.75 # Threshold used for clustering algorithm\n",
    "min_sessions_perc: 50 #Exclude masks not present for this percentage of sessions (0-100).\n",
    "min_perc: 50 #Create template based on pixels detected in X% of sesions.\n",
    "step_sizes: [200,200] # clustering happens in these sizes blocks across the plane (for memory reasons)\n",
    "bin_size: 50 # Look for masks around center+bin-size to avoid edge cases\n",
    "min_distance: 20 # only masks with centers within this pixel radius of each other are considered for clustering.\n",
    "min_size_non_overlap: 25 # minimum size of template mask in pixels.\n",
    "  \"\"\"\n",
    "cluster_settings = yaml.safe_load(cluster_settings)\n",
    "\n",
    "# Collect data.\n",
    "def check_clustering(animal, cluster_settings):\n",
    "    # get vr2p data\n",
    "    data = vr2p.ExperimentData(f'gs://linear-2ac/Set A/Tyche-{animal}-SetA.zarr')\n",
    "    im_size = data.images.registered[0]['mean_img'].shape\n",
    "    # registration data.\n",
    "    fs = gcsfs.GCSFileSystem(project='sprustonlab-meso')\n",
    "    with fs.open(f'gs://linear-2ac/Registration_data_all_animals/register-Tyche-{animal}.pkl', 'rb') as handle:\n",
    "        deforms, trans_images,trans_masks, trans_label_im = pickle.load(handle)\n",
    "    # cluster matching data.\n",
    "    with fs.open(f'gs://linear-2ac/Registration_data_all_animals/match-Tyche-{animal}.pkl', 'rb') as handle:\n",
    "        matched_cells, matched_im, template_masks, template_im = pickle.load(handle)\n",
    "    # store.\n",
    "    stored = {'matched_cells':matched_cells, 'matched_im':matched_im, 'template_masks': template_masks, 'template_im':template_im}\n",
    "    del matched_cells, matched_im, template_masks, template_im\n",
    "    #  assert that number of sessions align.\n",
    "    assert len(trans_masks)== len(data.images.registered) ,'Number of sessions in data and stored registration do not match'\n",
    "    # cluster and create template masks.\n",
    "    matched_cells, matched_im = cluster_cell_masks(trans_masks, im_size, cluster_settings)\n",
    "    # test.\n",
    "    check=True\n",
    "    for i, cell in enumerate(matched_cells):\n",
    "        centers = np.array([roi['med'] for roi in cell])\n",
    "        stored_centers = np.array([roi['med'] for roi in matched_cells[i]])\n",
    "        if not np.array_equal(centers, stored_centers):\n",
    "            check= False\n",
    "    print(animal, ' Equality: ',check)\n",
    "    return check\n",
    "for animal in animals:\n",
    "    check_clustering(animal, cluster_settings)"
   ]
  }
 ],
 "metadata": {
  "kernelspec": {
   "display_name": "Python 3 (ipykernel)",
   "language": "python",
   "name": "python3"
  },
  "language_info": {
   "codemirror_mode": {
    "name": "ipython",
    "version": 3
   },
   "file_extension": ".py",
   "mimetype": "text/x-python",
   "name": "python",
   "nbconvert_exporter": "python",
   "pygments_lexer": "ipython3",
   "version": "3.8.16"
  }
 },
 "nbformat": 4,
 "nbformat_minor": 5
}
