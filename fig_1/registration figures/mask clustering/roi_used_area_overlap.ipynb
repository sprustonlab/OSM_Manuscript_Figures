{
 "cells": [
  {
   "attachments": {},
   "cell_type": "markdown",
   "id": "9051cad8-f17d-47ae-a94e-3ff037404efa",
   "metadata": {
    "tags": []
   },
   "source": [
    "# ROI Presence Used Area overlap\n",
    "\n",
    "Plots for used cells the amount of average area overlap per cell, based on the generated template image (histogram)"
   ]
  },
  {
   "cell_type": "code",
   "execution_count": 1,
   "id": "ee5fd23d-3d63-4633-b810-87dd15e09407",
   "metadata": {
    "tags": []
   },
   "outputs": [],
   "source": [
    "%load_ext autoreload\n",
    "%autoreload 2\n",
    "import numpy as np\n",
    "import gcsfs, pickle\n",
    "from tqdm.notebook import tqdm\n",
    "import matplotlib.pyplot as plt\n",
    "import pandas as pd\n",
    "from vr2p import styles"
   ]
  },
  {
   "attachments": {},
   "cell_type": "markdown",
   "id": "26789d03-4c51-475f-bb4c-7fb7d674f5c5",
   "metadata": {},
   "source": [
    "# Main Parameters"
   ]
  },
  {
   "cell_type": "code",
   "execution_count": 2,
   "id": "f0f731a6-5a0f-43ca-8f03-51686bca0493",
   "metadata": {
    "tags": []
   },
   "outputs": [],
   "source": [
    "animals = ['A4','A5','A7','B2','B3','B4','B5','C1','D1','F1', 'F5']\n",
    "bin_size = 10"
   ]
  },
  {
   "attachments": {},
   "cell_type": "markdown",
   "id": "87633f72-c534-4d2c-9342-40161b2165e6",
   "metadata": {},
   "source": [
    "# Collect matched cell data.\n",
    "\n",
    "This only uses clustered rois that passed the 'minimum presence'  test"
   ]
  },
  {
   "cell_type": "code",
   "execution_count": 3,
   "id": "23048edf-7d26-47e0-8942-3e6f4faf525c",
   "metadata": {
    "tags": []
   },
   "outputs": [
    {
     "data": {
      "application/vnd.jupyter.widget-view+json": {
       "model_id": "3ec46b5190b5448da1b6d8c84eab1eb2",
       "version_major": 2,
       "version_minor": 0
      },
      "text/plain": [
       "  0%|          | 0/11 [00:00<?, ?it/s]"
      ]
     },
     "metadata": {},
     "output_type": "display_data"
    }
   ],
   "source": [
    "def collect_masks(animal):\n",
    "    fs = gcsfs.GCSFileSystem(project='sprustonlab-meso')\n",
    "    with fs.open(f'gs://linear-2ac/registration/match-Tyche-{animal}.pkl', 'rb') as handle:\n",
    "        matched_masks, matched_im, template_masks, template_im = pickle.load(handle)\n",
    "    return {'animal':animal,'num_sessions': len(matched_im), 'matched_masks':matched_masks, \n",
    "            'matched_im':matched_im,'template_masks':template_masks,\n",
    "            'template_im':template_im}\n",
    "matched_info = [ collect_masks(animal) for animal in tqdm(animals)]"
   ]
  },
  {
   "attachments": {},
   "cell_type": "markdown",
   "id": "80c44f2c-1c60-4d50-b03e-5aacd1318ab0",
   "metadata": {},
   "source": [
    "# Collect hist data.\n",
    "\n",
    "Note if animal does not have enough sessions to get data in one bin then it is ignored for that bin."
   ]
  },
  {
   "cell_type": "code",
   "execution_count": 4,
   "id": "2843cf35",
   "metadata": {},
   "outputs": [
    {
     "data": {
      "application/vnd.jupyter.widget-view+json": {
       "model_id": "f679279cd42c40029d630fb04ef318b3",
       "version_major": 2,
       "version_minor": 0
      },
      "text/plain": [
       "  0%|          | 0/11 [00:00<?, ?it/s]"
      ]
     },
     "metadata": {},
     "output_type": "display_data"
    },
    {
     "data": {
      "text/html": [
       "<div>\n",
       "<style scoped>\n",
       "    .dataframe tbody tr th:only-of-type {\n",
       "        vertical-align: middle;\n",
       "    }\n",
       "\n",
       "    .dataframe tbody tr th {\n",
       "        vertical-align: top;\n",
       "    }\n",
       "\n",
       "    .dataframe thead th {\n",
       "        text-align: right;\n",
       "    }\n",
       "</style>\n",
       "<table border=\"1\" class=\"dataframe\">\n",
       "  <thead>\n",
       "    <tr style=\"text-align: right;\">\n",
       "      <th></th>\n",
       "      <th>animal</th>\n",
       "      <th>mask_id</th>\n",
       "      <th>overlap_perc</th>\n",
       "    </tr>\n",
       "  </thead>\n",
       "  <tbody>\n",
       "    <tr>\n",
       "      <th>0</th>\n",
       "      <td>A4</td>\n",
       "      <td>1</td>\n",
       "      <td>76.717915</td>\n",
       "    </tr>\n",
       "    <tr>\n",
       "      <th>1</th>\n",
       "      <td>A4</td>\n",
       "      <td>2</td>\n",
       "      <td>77.579006</td>\n",
       "    </tr>\n",
       "    <tr>\n",
       "      <th>2</th>\n",
       "      <td>A4</td>\n",
       "      <td>3</td>\n",
       "      <td>80.571825</td>\n",
       "    </tr>\n",
       "    <tr>\n",
       "      <th>3</th>\n",
       "      <td>A4</td>\n",
       "      <td>4</td>\n",
       "      <td>71.865959</td>\n",
       "    </tr>\n",
       "    <tr>\n",
       "      <th>4</th>\n",
       "      <td>A4</td>\n",
       "      <td>5</td>\n",
       "      <td>82.496227</td>\n",
       "    </tr>\n",
       "    <tr>\n",
       "      <th>...</th>\n",
       "      <td>...</td>\n",
       "      <td>...</td>\n",
       "      <td>...</td>\n",
       "    </tr>\n",
       "    <tr>\n",
       "      <th>43491</th>\n",
       "      <td>F5</td>\n",
       "      <td>3961</td>\n",
       "      <td>73.143913</td>\n",
       "    </tr>\n",
       "    <tr>\n",
       "      <th>43492</th>\n",
       "      <td>F5</td>\n",
       "      <td>3962</td>\n",
       "      <td>68.554192</td>\n",
       "    </tr>\n",
       "    <tr>\n",
       "      <th>43493</th>\n",
       "      <td>F5</td>\n",
       "      <td>3963</td>\n",
       "      <td>65.861410</td>\n",
       "    </tr>\n",
       "    <tr>\n",
       "      <th>43494</th>\n",
       "      <td>F5</td>\n",
       "      <td>3964</td>\n",
       "      <td>71.621896</td>\n",
       "    </tr>\n",
       "    <tr>\n",
       "      <th>43495</th>\n",
       "      <td>F5</td>\n",
       "      <td>3965</td>\n",
       "      <td>47.929285</td>\n",
       "    </tr>\n",
       "  </tbody>\n",
       "</table>\n",
       "<p>43496 rows × 3 columns</p>\n",
       "</div>"
      ],
      "text/plain": [
       "      animal  mask_id  overlap_perc\n",
       "0         A4        1     76.717915\n",
       "1         A4        2     77.579006\n",
       "2         A4        3     80.571825\n",
       "3         A4        4     71.865959\n",
       "4         A4        5     82.496227\n",
       "...      ...      ...           ...\n",
       "43491     F5     3961     73.143913\n",
       "43492     F5     3962     68.554192\n",
       "43493     F5     3963     65.861410\n",
       "43494     F5     3964     71.621896\n",
       "43495     F5     3965     47.929285\n",
       "\n",
       "[43496 rows x 3 columns]"
      ]
     },
     "metadata": {},
     "output_type": "display_data"
    }
   ],
   "source": [
    "from itertools import permutations\n",
    "\n",
    "data = []\n",
    "for info in tqdm(matched_info):\n",
    "    for template in info['template_masks']:\n",
    "        mask_id = template['id']\n",
    "        # find the matched masks with this id\n",
    "        matched_masks = [matched_mask for matched_mask in info['matched_masks'] if matched_mask[0]['id']==mask_id]\n",
    "        assert len(matched_masks)==1,'Found more then one possible matched mask'\n",
    "        matched_masks = matched_masks[0]\n",
    "        # get all possible combinations of pairs of matched masks (no repeats)\n",
    "        matched_masks = list(permutations(matched_masks,2))\n",
    "        overlap_perc = []\n",
    "        for mask_pair in matched_masks:\n",
    "            # get indices of pixels in each mask\n",
    "            mask_a = mask_pair[0]['ipix']\n",
    "            mask_b = mask_pair[1]['ipix']\n",
    "            # find unique indices\n",
    "            unique_pix = np.unique(np.concatenate((mask_a,mask_b)))\n",
    "            num_pixels = len(unique_pix)\n",
    "            # find overlap\n",
    "            overlap_pix = np.intersect1d(mask_a, mask_b)\n",
    "            overlap_perc.append((len(overlap_pix)/num_pixels)*100)\n",
    "        overlap_perc = np.array(overlap_perc).mean()\n",
    "        # store info.clear\n",
    "        data.append({'animal':info['animal'],'mask_id':mask_id,'overlap_perc':overlap_perc})\n",
    "# convert to dataframe\n",
    "data = pd.DataFrame(data)\n",
    "display(data)"
   ]
  },
  {
   "cell_type": "code",
   "execution_count": 5,
   "id": "e76c6d19",
   "metadata": {},
   "outputs": [],
   "source": [
    "import math\n",
    "# calculate histogram per animal\n",
    "hist_data = []\n",
    "for animal in animals:\n",
    "    animal_data = data.loc[data['animal']==animal,'overlap_perc'].to_numpy()\n",
    "    hist_values,bins = np.histogram(animal_data,np.arange(0,100+bin_size,bin_size))\n",
    "    hist_data.append([(hist_values/hist_values.sum())*100])\n",
    "result = np.vstack(hist_data)\n",
    "result_m = np.nanmean(result,axis=0)\n",
    "result_std = np.nanstd(result,axis=0)\n",
    "result_sem = result_std/math.sqrt(len(animals))"
   ]
  },
  {
   "attachments": {},
   "cell_type": "markdown",
   "id": "918f2e5b",
   "metadata": {},
   "source": [
    "# Plot histogram"
   ]
  },
  {
   "cell_type": "code",
   "execution_count": 6,
   "id": "66e31268",
   "metadata": {},
   "outputs": [
    {
     "data": {
      "text/plain": [
       "Text(0, 0.5, 'Occurence (%)')"
      ]
     },
     "execution_count": 6,
     "metadata": {},
     "output_type": "execute_result"
    },
    {
     "data": {
      "image/png": "[encoded data removed]",
      "text/plain": [
       "<Figure size 885.827x885.827 with 1 Axes>"
      ]
     },
     "metadata": {},
     "output_type": "display_data"
    }
   ],
   "source": [
    "plt.style.use(styles('publication-tight'))\n",
    "# plot\n",
    "axs = plt.figure(figsize=(22.5/25.4 ,22.5/25.4),dpi=1000,layout=\"constrained\").subplot_mosaic(\n",
    "    [\n",
    "        ['plot'],\n",
    "    ],\n",
    "    empty_sentinel=\"BLANK\",\n",
    "    # set the height ratios between the rows\n",
    "    height_ratios=[1,],\n",
    "    # set the width ratios between the columns\n",
    "    width_ratios=[1],\n",
    ")\n",
    "ax = axs['plot']\n",
    "x_pos = np.arange(0+(bin_size/2), 100,bin_size)\n",
    "ax.bar(x_pos, result_m,width=bin_size/1, color='gray',edgecolor='black',linewidth=0.5)\n",
    "y_err = np.array([ [0,err] for err in result_std]).T\n",
    "ax.errorbar(x_pos,result_m,\n",
    "           yerr = y_err,fmt='none',solid_capstyle='projecting',\n",
    "            capsize=2,color='black',capthick=0.5,elinewidth=0.5)\n",
    "# set x ticks\n",
    "ax.set_xticks(np.arange(0,101,50))\n",
    "ax.set_xlim(-1,101)\n",
    "ax.set_xlabel('Mask Overlap(%)\\n')\n",
    "ax.set_ylabel('Occurence (%)')\n",
    "# text"
   ]
  },
  {
   "attachments": {},
   "cell_type": "markdown",
   "id": "b3c580a3",
   "metadata": {},
   "source": [
    "# Appendix: Sanity check numbering of template masks\n",
    "Template masks length does not match matched masks size due to filtering on size"
   ]
  },
  {
   "cell_type": "code",
   "execution_count": 7,
   "id": "0ed48cbf-e9bd-4413-911b-2453a44627cb",
   "metadata": {},
   "outputs": [
    {
     "name": "stdout",
     "output_type": "stream",
     "text": [
      "A4\n",
      "number matched masks: 4206\n",
      "number template masks: 3906\n",
      "Number of mismatched masks: 300\n",
      "A5\n",
      "number matched masks: 4670\n",
      "number template masks: 4254\n",
      "Number of mismatched masks: 416\n",
      "A7\n",
      "number matched masks: 5738\n",
      "number template masks: 5354\n",
      "Number of mismatched masks: 384\n",
      "B2\n",
      "number matched masks: 3290\n",
      "number template masks: 3034\n",
      "Number of mismatched masks: 256\n",
      "B3\n",
      "number matched masks: 4416\n",
      "number template masks: 4240\n",
      "Number of mismatched masks: 176\n",
      "B4\n",
      "number matched masks: 5351\n",
      "number template masks: 4924\n",
      "Number of mismatched masks: 427\n",
      "B5\n",
      "number matched masks: 3472\n",
      "number template masks: 3385\n",
      "Number of mismatched masks: 87\n",
      "C1\n",
      "number matched masks: 4005\n",
      "number template masks: 3812\n",
      "Number of mismatched masks: 193\n",
      "D1\n",
      "number matched masks: 3707\n",
      "number template masks: 3581\n",
      "Number of mismatched masks: 126\n",
      "F1\n",
      "number matched masks: 3781\n",
      "number template masks: 3498\n",
      "Number of mismatched masks: 283\n",
      "F5\n",
      "number matched masks: 3965\n",
      "number template masks: 3508\n",
      "Number of mismatched masks: 457\n"
     ]
    }
   ],
   "source": [
    "# plotting some example data.\n",
    "for info in matched_info:\n",
    "    print(info['animal'])\n",
    "    print(f'number matched masks: {len(info[\"matched_masks\"])}')\n",
    "    print(f'number template masks: {len(info[\"template_masks\"])}')\n",
    "    # Note! number of templates does not match number of clustered masks.\n",
    "    id =1 \n",
    "    mismatch_count = 0\n",
    "    for mask in info['template_masks']:\n",
    "        if id !=mask['id']:\n",
    "            mismatch_count+=mask['id']-id\n",
    "            id=mask['id']\n",
    "        id+=1\n",
    "    print(f'Number of mismatched masks: {mismatch_count}')\n"
   ]
  }
 ],
 "metadata": {
  "kernelspec": {
   "display_name": "Python 3 (ipykernel)",
   "language": "python",
   "name": "python3"
  },
  "language_info": {
   "codemirror_mode": {
    "name": "ipython",
    "version": 3
   },
   "file_extension": ".py",
   "mimetype": "text/x-python",
   "name": "python",
   "nbconvert_exporter": "python",
   "pygments_lexer": "ipython3",
   "version": "3.8.16"
  }
 },
 "nbformat": 4,
 "nbformat_minor": 5
}
